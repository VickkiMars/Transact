{
 "cells": [
  {
   "cell_type": "code",
   "execution_count": 1,
   "metadata": {},
   "outputs": [],
   "source": [
    "from names_dataset import NameDataset"
   ]
  },
  {
   "cell_type": "code",
   "execution_count": 28,
   "metadata": {},
   "outputs": [],
   "source": [
    "import random"
   ]
  },
  {
   "cell_type": "code",
   "execution_count": 2,
   "metadata": {},
   "outputs": [],
   "source": [
    "nd = NameDataset()"
   ]
  },
  {
   "cell_type": "code",
   "execution_count": 40,
   "metadata": {},
   "outputs": [],
   "source": [
    "foreign_male_names = []\n",
    "foreign_female_names = []"
   ]
  },
  {
   "cell_type": "code",
   "execution_count": 41,
   "metadata": {},
   "outputs": [],
   "source": [
    "for i in range(400):\n",
    "\tcountry_codes = nd.get_country_codes(alpha_2=True)\n",
    "\tcode = random.choice(country_codes)\n",
    "\tforeign = nd.get_top_names(100, country_alpha2 = code)\n",
    "\tforeign_male_names.extend(foreign[code]['M'][:])\n",
    "\tforeign_female_names.extend(foreign[code]['F'][:])"
   ]
  },
  {
   "cell_type": "code",
   "execution_count": 3,
   "metadata": {},
   "outputs": [],
   "source": [
    "hund = nd.get_top_names(50000, country_alpha2='NG')"
   ]
  },
  {
   "cell_type": "code",
   "execution_count": 4,
   "metadata": {},
   "outputs": [],
   "source": [
    "male_names = [hund['NG']['M'][:]]\n",
    "female_names = [hund['NG']['F'][:]]"
   ]
  },
  {
   "cell_type": "code",
   "execution_count": null,
   "metadata": {},
   "outputs": [],
   "source": [
    "def writefile(filename:str, content:str):\n",
    "    with open(filename, 'a') as f:\n",
    "        f.write(content)\n",
    "        f.close()\n",
    "        \n",
    "filename = \"names.txt\""
   ]
  },
  {
   "cell_type": "code",
   "execution_count": 30,
   "metadata": {},
   "outputs": [
    {
     "data": {
      "text/plain": [
       "'AF'"
      ]
     },
     "execution_count": 30,
     "metadata": {},
     "output_type": "execute_result"
    }
   ],
   "source": [
    "# NIGERIAN MALE FIRST NAMES\n",
    "\n",
    "gender = random.choice([\"M\", \"F\"])\n",
    "if gender == \"M\":\n",
    "\tfor name in male_names:\n",
    "\t\ttwo_names = f\"{name} {random.choice(male_names)}\\n\"\n",
    "\t\twritefile(filename, two_names)\n",
    "else:\n",
    "\tfor name in male_names:\n",
    "\t\ttwo_names = f\"{name} {random.choice(female_names)}\\n\"\n",
    "\t\twritefile(filename, two_names)"
   ]
  },
  {
   "cell_type": "code",
   "execution_count": 39,
   "metadata": {},
   "outputs": [],
   "source": [
    "# NIGERIAN FEMALE FIRST NAMES\n",
    "gender = random.choice([\"M\", \"F\"])\n",
    "if gender == \"M\":\n",
    "\tfor name in female_names:\n",
    "\t\ttwo_names = f\"{name} {random.choice(male_names)}\\n\"\n",
    "\t\twritefile(filename, two_names)\n",
    "else:\n",
    "\tfor name in female_names:\n",
    "\t\ttwo_names = f\"{name} {random.choice(female_names)}\\n\"\n",
    "\t\twritefile(filename, two_names)"
   ]
  },
  {
   "cell_type": "code",
   "execution_count": null,
   "metadata": {},
   "outputs": [],
   "source": [
    "# FOREIGN MALE FIRST NAMES\n",
    "gender = random.choice([\"M\", \"F\"])\n",
    "if gender == \"M\":\n",
    "\tfor name in foreign_male_names:\n",
    "\t\ttwo_names = f\"{name} {random.choice(foreign_male_names)}\\n\"\n",
    "\t\twritefile(filename, two_names)\n",
    "else:\n",
    "\tfor name in foreign_male_names:\n",
    "\t\ttwo_names = f\"{name} {random.choice(foreign_female_names)}\\n\"\n",
    "\t\twritefile(filename, two_names)"
   ]
  },
  {
   "cell_type": "code",
   "execution_count": null,
   "metadata": {},
   "outputs": [],
   "source": [
    "# FOREIGN FEMALE FIRST NAMES\n",
    "gender = random.choice([\"M\", \"F\"])\n",
    "if gender == \"M\":\n",
    "\tfor name in foreign_female_names:\n",
    "\t\ttwo_names = f\"{name} {random.choice(foreign_male_names)}\\n\"\n",
    "\t\twritefile(filename, two_names)\n",
    "else:\n",
    "\tfor name in foreign_female_names:\n",
    "\t\ttwo_names = f\"{name} {random.choice(foreign_female_names)}\\n\"\n",
    "\t\twritefile(filename, two_names)"
   ]
  },
  {
   "cell_type": "code",
   "execution_count": null,
   "metadata": {},
   "outputs": [],
   "source": [
    "# SAME NAMES\n",
    "nation = random.choice([\"N\", \"O\"])\n",
    "gender = random.choice([\"M\", \"F\"])\n",
    "if nation == \"N\":\n",
    "\tif gender == \"M\":\n",
    "\t\tfor name in male_names:\n",
    "\t\t\ttwo_names = f\"{name} {name}\\n\"\n",
    "\t\t\twritefile(filename, two_names)\n",
    "\telse:\n",
    "\t\tfor name in female_names:\n",
    "\t\t\ttwo_names = f\"{name} {name}\\n\"\n",
    "\t\t\twritefile(filename, two_names)\n",
    "else:\n",
    "\tif gender == \"M\":\n",
    "\t\tfor name in foreign_male_names:\n",
    "\t\t\ttwo_names = f\"{name} {name}\\n\"\n",
    "\t\t\twritefile(filename, two_names)\n",
    "\telse:\n",
    "\t\tfor name in foreign_female_names:\n",
    "\t\t\ttwo_names = f\"{name} {name}\\n\"\n",
    "\t\t\twritefile(filename, two_names)"
   ]
  }
 ],
 "metadata": {
  "kernelspec": {
   "display_name": "Python 3",
   "language": "python",
   "name": "python3"
  },
  "language_info": {
   "codemirror_mode": {
    "name": "ipython",
    "version": 3
   },
   "file_extension": ".py",
   "mimetype": "text/x-python",
   "name": "python",
   "nbconvert_exporter": "python",
   "pygments_lexer": "ipython3",
   "version": "3.10.5"
  }
 },
 "nbformat": 4,
 "nbformat_minor": 2
}
